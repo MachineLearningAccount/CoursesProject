{
 "cells": [
  {
   "cell_type": "code",
   "execution_count": 3,
   "metadata": {},
   "outputs": [],
   "source": [
    "import re\n",
    "import numpy as np"
   ]
  },
  {
   "cell_type": "markdown",
   "metadata": {},
   "source": [
    "Read the target file from the project directory. Count the lines in the text. Convert all text to the lower case."
   ]
  },
  {
   "cell_type": "code",
   "execution_count": 53,
   "metadata": {},
   "outputs": [
    {
     "name": "stdout",
     "output_type": "stream",
     "text": [
      "\n",
      "\n",
      "-----------The list of the sentences from file:\n",
      "\n",
      "['In comparison to dogs, cats have not undergone major changes during the domestication process.\\n', 'As cat simply catenates streams of bytes, it can be also used to concatenate binary files, where it will just concatenate sequence of bytes.\\n', 'A common interactive use of cat for a single file is to output the content of a file to standard output.\\n', 'Cats can hear sounds too faint or too high in frequency for human ears, such as those made by mice and other small animals.\\n', 'In one, people deliberately tamed cats in a process of artificial selection, as they were useful predators of vermin.\\n', 'The domesticated cat and its closest wild ancestor are both diploid organisms that possess 38 chromosomes and roughly 20,000 genes.\\n', 'Domestic cats are similar in size to the other members of the genus Felis, typically weighing between 4 and 5 kg (8.8 and 11.0 lb).\\n', 'However, if the output is piped or redirected, cat is unnecessary.\\n', 'cat with one named file is safer where human error is a concern - one wrong use of the default redirection symbol \">\" instead of \"<\" (often adjacent on keyboards) may permanently delete the file you were just needing to read.\\n', 'In terms of legibility, a sequence of commands starting with cat and connected by pipes has a clear left-to-right flow of information.\\n', 'Cat command is one of the basic commands that you learned when you started in the Unix / Linux world.\\n', 'Using cat command, the lines received from stdin can be redirected to a new file using redirection symbols.\\n', 'When you type simply cat command without any arguments, it just receives the stdin content and displays it in the stdout.\\n', 'Leopard was released on October 26, 2007 as the successor of Tiger (version 10.4), and is available in two editions.\\n', 'According to Apple, Leopard contains over 300 changes and enhancements over its predecessor, Mac OS X Tiger.\\n', 'As of Mid 2010, some Apple computers have firmware factory installed which will no longer allow installation of Mac OS X Leopard.\\n', 'Since Apple moved to using Intel processors in their computers, the OSx86 community has developed and now also allows Mac OS X Tiger and later releases to be installed on non-Apple x86-based computers.\\n', \"OS X Mountain Lion was released on July 25, 2012 for purchase and download through Apple's Mac App Store, as part of a switch to releasing OS X versions online and every year.\\n\", 'Apple has released a small patch for the three most recent versions of Safari running on OS X Yosemite, Mavericks, and Mountain Lion.\\n', 'The Mountain Lion release marks the second time Apple has offered an incremental upgrade, rather than releasing a new cat entirely.\\n', \"Mac OS X Mountain Lion installs in place, so you won't need to create a separate disk or run the installation off an external drive.\\n\", \"The fifth major update to Mac OS X, Leopard, contains such a mountain of features - more than 300 by Apple's count.\"]\n",
      "\n",
      "\n",
      "-----------The count of the sentences:\n",
      "22\n",
      "\n",
      "\n",
      "-----------The sentences' list in the lower case:\n",
      "\n",
      "['in comparison to dogs, cats have not undergone major changes during the domestication process.\\n', 'as cat simply catenates streams of bytes, it can be also used to concatenate binary files, where it will just concatenate sequence of bytes.\\n', 'a common interactive use of cat for a single file is to output the content of a file to standard output.\\n', 'cats can hear sounds too faint or too high in frequency for human ears, such as those made by mice and other small animals.\\n', 'in one, people deliberately tamed cats in a process of artificial selection, as they were useful predators of vermin.\\n', 'the domesticated cat and its closest wild ancestor are both diploid organisms that possess 38 chromosomes and roughly 20,000 genes.\\n', 'domestic cats are similar in size to the other members of the genus felis, typically weighing between 4 and 5 kg (8.8 and 11.0 lb).\\n', 'however, if the output is piped or redirected, cat is unnecessary.\\n', 'cat with one named file is safer where human error is a concern - one wrong use of the default redirection symbol \">\" instead of \"<\" (often adjacent on keyboards) may permanently delete the file you were just needing to read.\\n', 'in terms of legibility, a sequence of commands starting with cat and connected by pipes has a clear left-to-right flow of information.\\n', 'cat command is one of the basic commands that you learned when you started in the unix / linux world.\\n', 'using cat command, the lines received from stdin can be redirected to a new file using redirection symbols.\\n', 'when you type simply cat command without any arguments, it just receives the stdin content and displays it in the stdout.\\n', 'leopard was released on october 26, 2007 as the successor of tiger (version 10.4), and is available in two editions.\\n', 'according to apple, leopard contains over 300 changes and enhancements over its predecessor, mac os x tiger.\\n', 'as of mid 2010, some apple computers have firmware factory installed which will no longer allow installation of mac os x leopard.\\n', 'since apple moved to using intel processors in their computers, the osx86 community has developed and now also allows mac os x tiger and later releases to be installed on non-apple x86-based computers.\\n', \"os x mountain lion was released on july 25, 2012 for purchase and download through apple's mac app store, as part of a switch to releasing os x versions online and every year.\\n\", 'apple has released a small patch for the three most recent versions of safari running on os x yosemite, mavericks, and mountain lion.\\n', 'the mountain lion release marks the second time apple has offered an incremental upgrade, rather than releasing a new cat entirely.\\n', \"mac os x mountain lion installs in place, so you won't need to create a separate disk or run the installation off an external drive.\\n\", \"the fifth major update to mac os x, leopard, contains such a mountain of features - more than 300 by apple's count.\"]\n"
     ]
    }
   ],
   "source": [
    "with open('sentences.txt', 'r') as open_file:\n",
    "    sent_list = list(open_file)\n",
    "print '\\n\\n-----------The list of the sentences from file:\\n\\n', sent_list\n",
    "count = 0\n",
    "for line in sent_list:\n",
    "    line.strip()\n",
    "    count += 1\n",
    "    \n",
    "print '\\n\\n-----------The count of the sentences:\\n', count\n",
    "lower_sent_list = [line.lower() for line in sent_list];\n",
    "print \"\\n\\n-----------The sentences' list in the lower case:\\n\\n\", lower_sent_list"
   ]
  },
  {
   "cell_type": "markdown",
   "metadata": {},
   "source": [
    "Токенизируем текст. Убираем из результирующего списка пустые строки."
   ]
  },
  {
   "cell_type": "code",
   "execution_count": 50,
   "metadata": {},
   "outputs": [
    {
     "name": "stdout",
     "output_type": "stream",
     "text": [
      "[['in', 'comparison', 'to', 'dogs', '', 'cats', 'have', 'not', 'undergone', 'major', 'changes', 'during', 'the', 'domestication', 'process', '', ''], ['as', 'cat', 'simply', 'catenates', 'streams', 'of', 'bytes', '', 'it', 'can', 'be', 'also', 'used', 'to', 'concatenate', 'binary', 'files', '', 'where', 'it', 'will', 'just', 'concatenate', 'sequence', 'of', 'bytes', '', ''], ['a', 'common', 'interactive', 'use', 'of', 'cat', 'for', 'a', 'single', 'file', 'is', 'to', 'output', 'the', 'content', 'of', 'a', 'file', 'to', 'standard', 'output', '', ''], ['cats', 'can', 'hear', 'sounds', 'too', 'faint', 'or', 'too', 'high', 'in', 'frequency', 'for', 'human', 'ears', '', 'such', 'as', 'those', 'made', 'by', 'mice', 'and', 'other', 'small', 'animals', '', ''], ['in', 'one', '', 'people', 'deliberately', 'tamed', 'cats', 'in', 'a', 'process', 'of', 'artificial', 'selection', '', 'as', 'they', 'were', 'useful', 'predators', 'of', 'vermin', '', ''], ['the', 'domesticated', 'cat', 'and', 'its', 'closest', 'wild', 'ancestor', 'are', 'both', 'diploid', 'organisms', 'that', 'possess', '', '', '', 'chromosomes', 'and', 'roughly', '', '', '', '', '', '', '', 'genes', '', ''], ['domestic', 'cats', 'are', 'similar', 'in', 'size', 'to', 'the', 'other', 'members', 'of', 'the', 'genus', 'felis', '', 'typically', 'weighing', 'between', '', '', 'and', '', '', 'kg', '', '', '', '', '', 'and', '', '', '', '', '', 'lb', '', '', ''], ['however', '', 'if', 'the', 'output', 'is', 'piped', 'or', 'redirected', '', 'cat', 'is', 'unnecessary', '', ''], ['cat', 'with', 'one', 'named', 'file', 'is', 'safer', 'where', 'human', 'error', 'is', 'a', 'concern', '', '', 'one', 'wrong', 'use', 'of', 'the', 'default', 'redirection', 'symbol', '', '', '', '', 'instead', 'of', '', '', '', '', '', 'often', 'adjacent', 'on', 'keyboards', '', 'may', 'permanently', 'delete', 'the', 'file', 'you', 'were', 'just', 'needing', 'to', 'read', '', ''], ['in', 'terms', 'of', 'legibility', '', 'a', 'sequence', 'of', 'commands', 'starting', 'with', 'cat', 'and', 'connected', 'by', 'pipes', 'has', 'a', 'clear', 'left', 'to', 'right', 'flow', 'of', 'information', '', ''], ['cat', 'command', 'is', 'one', 'of', 'the', 'basic', 'commands', 'that', 'you', 'learned', 'when', 'you', 'started', 'in', 'the', 'unix', '', '', 'linux', 'world', '', ''], ['using', 'cat', 'command', '', 'the', 'lines', 'received', 'from', 'stdin', 'can', 'be', 'redirected', 'to', 'a', 'new', 'file', 'using', 'redirection', 'symbols', '', ''], ['when', 'you', 'type', 'simply', 'cat', 'command', 'without', 'any', 'arguments', '', 'it', 'just', 'receives', 'the', 'stdin', 'content', 'and', 'displays', 'it', 'in', 'the', 'stdout', '', ''], ['leopard', 'was', 'released', 'on', 'october', '', '', '', '', '', '', '', '', '', 'as', 'the', 'successor', 'of', 'tiger', '', 'version', '', '', '', '', '', '', '', 'and', 'is', 'available', 'in', 'two', 'editions', '', ''], ['according', 'to', 'apple', '', 'leopard', 'contains', 'over', '', '', '', '', 'changes', 'and', 'enhancements', 'over', 'its', 'predecessor', '', 'mac', 'os', 'x', 'tiger', '', ''], ['as', 'of', 'mid', '', '', '', '', '', '', 'some', 'apple', 'computers', 'have', 'firmware', 'factory', 'installed', 'which', 'will', 'no', 'longer', 'allow', 'installation', 'of', 'mac', 'os', 'x', 'leopard', '', ''], ['since', 'apple', 'moved', 'to', 'using', 'intel', 'processors', 'in', 'their', 'computers', '', 'the', 'osx', '', '', 'community', 'has', 'developed', 'and', 'now', 'also', 'allows', 'mac', 'os', 'x', 'tiger', 'and', 'later', 'releases', 'to', 'be', 'installed', 'on', 'non', 'apple', 'x', '', '', 'based', 'computers', '', ''], ['os', 'x', 'mountain', 'lion', 'was', 'released', 'on', 'july', '', '', '', '', '', '', '', '', '', 'for', 'purchase', 'and', 'download', 'through', 'apple', 's', 'mac', 'app', 'store', '', 'as', 'part', 'of', 'a', 'switch', 'to', 'releasing', 'os', 'x', 'versions', 'online', 'and', 'every', 'year', '', ''], ['apple', 'has', 'released', 'a', 'small', 'patch', 'for', 'the', 'three', 'most', 'recent', 'versions', 'of', 'safari', 'running', 'on', 'os', 'x', 'yosemite', '', 'mavericks', '', 'and', 'mountain', 'lion', '', ''], ['the', 'mountain', 'lion', 'release', 'marks', 'the', 'second', 'time', 'apple', 'has', 'offered', 'an', 'incremental', 'upgrade', '', 'rather', 'than', 'releasing', 'a', 'new', 'cat', 'entirely', '', ''], ['mac', 'os', 'x', 'mountain', 'lion', 'installs', 'in', 'place', '', 'so', 'you', 'won', 't', 'need', 'to', 'create', 'a', 'separate', 'disk', 'or', 'run', 'the', 'installation', 'off', 'an', 'external', 'drive', '', ''], ['the', 'fifth', 'major', 'update', 'to', 'mac', 'os', 'x', '', 'leopard', '', 'contains', 'such', 'a', 'mountain', 'of', 'features', '', '', 'more', 'than', '', '', '', '', 'by', 'apple', 's', 'count', '']]\n",
      "['in', 'comparison', 'to', 'dogs', 'cats', 'have', 'not', 'undergone', 'major', 'changes', 'during', 'the', 'domestication', 'process', 'as', 'cat', 'simply', 'catenates', 'streams', 'of', 'bytes', 'it', 'can', 'be', 'also', 'used', 'to', 'concatenate', 'binary', 'files', 'where', 'it', 'will', 'just', 'concatenate', 'sequence', 'of', 'bytes', 'a', 'common', 'interactive', 'use', 'of', 'cat', 'for', 'a', 'single', 'file', 'is', 'to', 'output', 'the', 'content', 'of', 'a', 'file', 'to', 'standard', 'output', 'cats', 'can', 'hear', 'sounds', 'too', 'faint', 'or', 'too', 'high', 'in', 'frequency', 'for', 'human', 'ears', 'such', 'as', 'those', 'made', 'by', 'mice', 'and', 'other', 'small', 'animals', 'in', 'one', 'people', 'deliberately', 'tamed', 'cats', 'in', 'a', 'process', 'of', 'artificial', 'selection', 'as', 'they', 'were', 'useful', 'predators', 'of', 'vermin', 'the', 'domesticated', 'cat', 'and', 'its', 'closest', 'wild', 'ancestor', 'are', 'both', 'diploid', 'organisms', 'that', 'possess', 'chromosomes', 'and', 'roughly', 'genes', 'domestic', 'cats', 'are', 'similar', 'in', 'size', 'to', 'the', 'other', 'members', 'of', 'the', 'genus', 'felis', 'typically', 'weighing', 'between', 'and', 'kg', 'and', 'lb', 'however', 'if', 'the', 'output', 'is', 'piped', 'or', 'redirected', 'cat', 'is', 'unnecessary', 'cat', 'with', 'one', 'named', 'file', 'is', 'safer', 'where', 'human', 'error', 'is', 'a', 'concern', 'one', 'wrong', 'use', 'of', 'the', 'default', 'redirection', 'symbol', 'instead', 'of', 'often', 'adjacent', 'on', 'keyboards', 'may', 'permanently', 'delete', 'the', 'file', 'you', 'were', 'just', 'needing', 'to', 'read', 'in', 'terms', 'of', 'legibility', 'a', 'sequence', 'of', 'commands', 'starting', 'with', 'cat', 'and', 'connected', 'by', 'pipes', 'has', 'a', 'clear', 'left', 'to', 'right', 'flow', 'of', 'information', 'cat', 'command', 'is', 'one', 'of', 'the', 'basic', 'commands', 'that', 'you', 'learned', 'when', 'you', 'started', 'in', 'the', 'unix', 'linux', 'world', 'using', 'cat', 'command', 'the', 'lines', 'received', 'from', 'stdin', 'can', 'be', 'redirected', 'to', 'a', 'new', 'file', 'using', 'redirection', 'symbols', 'when', 'you', 'type', 'simply', 'cat', 'command', 'without', 'any', 'arguments', 'it', 'just', 'receives', 'the', 'stdin', 'content', 'and', 'displays', 'it', 'in', 'the', 'stdout', 'leopard', 'was', 'released', 'on', 'october', 'as', 'the', 'successor', 'of', 'tiger', 'version', 'and', 'is', 'available', 'in', 'two', 'editions', 'according', 'to', 'apple', 'leopard', 'contains', 'over', 'changes', 'and', 'enhancements', 'over', 'its', 'predecessor', 'mac', 'os', 'x', 'tiger', 'as', 'of', 'mid', 'some', 'apple', 'computers', 'have', 'firmware', 'factory', 'installed', 'which', 'will', 'no', 'longer', 'allow', 'installation', 'of', 'mac', 'os', 'x', 'leopard', 'since', 'apple', 'moved', 'to', 'using', 'intel', 'processors', 'in', 'their', 'computers', 'the', 'osx', 'community', 'has', 'developed', 'and', 'now', 'also', 'allows', 'mac', 'os', 'x', 'tiger', 'and', 'later', 'releases', 'to', 'be', 'installed', 'on', 'non', 'apple', 'x', 'based', 'computers', 'os', 'x', 'mountain', 'lion', 'was', 'released', 'on', 'july', 'for', 'purchase', 'and', 'download', 'through', 'apple', 's', 'mac', 'app', 'store', 'as', 'part', 'of', 'a', 'switch', 'to', 'releasing', 'os', 'x', 'versions', 'online', 'and', 'every', 'year', 'apple', 'has', 'released', 'a', 'small', 'patch', 'for', 'the', 'three', 'most', 'recent', 'versions', 'of', 'safari', 'running', 'on', 'os', 'x', 'yosemite', 'mavericks', 'and', 'mountain', 'lion', 'the', 'mountain', 'lion', 'release', 'marks', 'the', 'second', 'time', 'apple', 'has', 'offered', 'an', 'incremental', 'upgrade', 'rather', 'than', 'releasing', 'a', 'new', 'cat', 'entirely', 'mac', 'os', 'x', 'mountain', 'lion', 'installs', 'in', 'place', 'so', 'you', 'won', 't', 'need', 'to', 'create', 'a', 'separate', 'disk', 'or', 'run', 'the', 'installation', 'off', 'an', 'external', 'drive', 'the', 'fifth', 'major', 'update', 'to', 'mac', 'os', 'x', 'leopard', 'contains', 'such', 'a', 'mountain', 'of', 'features', 'more', 'than', 'by', 'apple', 's', 'count']\n"
     ]
    }
   ],
   "source": [
    "splited_s_list = [re.split('[^a-z]', line) for line in lower_sent_list]\n",
    "\n",
    "print splited_list\n",
    "\n",
    "text4 = [line for line in text3 if line != '']\n",
    "        \n",
    "print text4"
   ]
  },
  {
   "cell_type": "markdown",
   "metadata": {},
   "source": [
    "Make a dict of the diferent words which contain in the text."
   ]
  },
  {
   "cell_type": "code",
   "execution_count": 39,
   "metadata": {},
   "outputs": [
    {
     "name": "stdout",
     "output_type": "stream",
     "text": [
      "{'osx': 1, 'selection': 2, 'safari': 3, 'just': 4, 'developed': 5, 'over': 6, 'vermin': 7, 'domestic': 8, 'major': 110, 'installed': 10, 'symbols': 11, 'through': 12, 'human': 13, 'world': 14, 'disk': 15, 'its': 16, 'fifth': 17, 'apple': 113, 'tamed': 19, 'upgrade': 20, 'lb': 21, 'computers': 179, 'to': 23, 'version': 70, 'deliberately': 25, 'marks': 26, 'has': 27, 'arguments': 210, 'predecessor': 28, 'non': 29, 'adjacent': 211, 'read': 31, 'made': 163, 'every': 33, 'they': 35, 'not': 36, 'during': 37, 'now': 38, 'people': 131, 'possess': 39, 'intel': 40, 'keyboards': 41, 'command': 246, 'bytes': 42, 'unnecessary': 43, 'patch': 44, 'common': 77, 'release': 84, 'output': 47, 'entirely': 48, 'where': 49, 'stdin': 240, 'ears': 50, 'concatenate': 78, 'right': 119, 'often': 53, 'wrong': 226, 'sequence': 54, 'some': 55, 'lion': 56, 'frequency': 57, 'displays': 0, 'year': 59, 'download': 60, 'terms': 61, 'firmware': 205, 'organisms': 236, 'concern': 62, 'for': 64, 'pipes': 65, 'since': 66, 'factory': 67, 'artificial': 68, 'content': 69, 'won': 24, 'between': 72, 'kg': 235, 'new': 73, 'learned': 74, 'piped': 76, 'predators': 45, 'available': 51, 'be': 79, 'run': 71, 'genes': 81, 'undergone': 124, 'standard': 83, 'small': 46, 'were': 173, 'diploid': 85, 'members': 86, 'x': 87, 'based': 88, 'safer': 89, 'by': 90, 'on': 52, 'commands': 92, 'weighing': 80, 'installs': 94, 'of': 95, 'needing': 96, 'allows': 97, 'according': 98, 's': 102, 'streams': 103, 'receives': 104, 'successor': 105, 'catenates': 106, 'os': 34, 'or': 108, 'and': 177, 'named': 9, 'contains': 148, 'useful': 112, 'features': 18, 'app': 114, 'mice': 157, 'community': 115, 'one': 116, 'running': 117, 'unix': 118, 'simply': 120, 'linux': 121, 'sounds': 122, 'size': 123, 'use': 82, 'delete': 125, 'from': 126, 'enhancements': 127, 'redirection': 134, 'create': 130, 'faint': 111, 'three': 75, 't': 133, 'their': 129, 'however': 135, 'cats': 136, 'too': 137, 'basic': 138, 'permanently': 139, 'type': 140, 'dogs': 141, 'store': 142, 'more': 143, 'files': 144, 'releases': 145, 'both': 91, 'started': 147, 'offered': 216, 'releasing': 149, 'tiger': 150, 'released': 151, 'part': 152, 'hear': 153, 'external': 154, 'editions': 155, 'installation': 93, 'july': 99, 'with': 158, 'than': 159, 'those': 160, 'count': 162, 'october': 32, 'animals': 164, 'mavericks': 165, 'versions': 166, 'default': 167, 'was': 168, 'typically': 252, 'second': 128, 'cat': 170, 'will': 171, 'information': 220, 'can': 172, 'error': 63, 'wild': 174, 'similar': 175, 'are': 58, 'felis': 109, 'interactive': 176, 'file': 192, 'stdout': 181, 'process': 182, 'flow': 241, 'is': 184, 'received': 185, 'moved': 186, 'it': 187, 'an': 188, 'high': 189, 'single': 169, 'incremental': 191, 'have': 180, 'in': 193, 'need': 194, 'domesticated': 195, 'any': 196, 'as': 190, 'if': 198, 'mountain': 178, 'processors': 200, 'no': 201, 'rather': 202, 'legibility': 203, 'separate': 204, 'that': 146, 'when': 206, 'mid': 207, 'also': 208, 'other': 209, 'domestication': 197, 'which': 30, 'online': 212, 'instead': 213, 'you': 214, 'ancestor': 215, 'used': 217, 'chromosomes': 218, 'closest': 219, 'binary': 199, 'may': 221, 'symbol': 222, 'leopard': 223, 'update': 224, 'most': 225, 'mac': 101, 'connected': 227, 'two': 132, 'yosemite': 228, 'such': 229, 'comparison': 230, 'recent': 231, 'a': 232, 'purchase': 233, 'genus': 234, 'off': 156, 'longer': 161, 'using': 237, 'changes': 107, 'clear': 239, 'later': 100, 'lines': 183, 'drive': 22, 'switch': 244, 'without': 245, 'so': 243, 'place': 247, 'allow': 248, 'time': 249, 'redirected': 250, 'the': 251, 'roughly': 242, 'starting': 238, 'left': 253}\n"
     ]
    }
   ],
   "source": [
    "dif_words = set(text4)\n",
    "dict_of_d_words = dict()\n",
    "x = 0\n",
    "for line in dif_words:\n",
    "    dict_of_d_words[line] = x\n",
    "    x += 1\n",
    "\n",
    "print dict_of_d_words"
   ]
  }
 ],
 "metadata": {
  "kernelspec": {
   "display_name": "Python 2",
   "language": "python",
   "name": "python2"
  }
 },
 "nbformat": 4,
 "nbformat_minor": 2
}
